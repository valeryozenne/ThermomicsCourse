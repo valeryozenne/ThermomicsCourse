{
 "cells": [
  {
   "cell_type": "code",
   "execution_count": 2,
   "id": "3bcc890d",
   "metadata": {},
   "outputs": [],
   "source": [
    "import numpy as np\n",
    "import nipype\n",
    "from nipype.interfaces import fsl\n",
    "import suspect\n",
    "import os\n",
    "from scipy.signal import find_peaks\n",
    "import dicom2nifti\n",
    "from pydicom import dcmread\n",
    "import pydicom\n",
    "import struct\n",
    "\n",
    "import matplotlib.pyplot as plt\n",
    "%matplotlib inline\n",
    "\n",
    "import csv\n",
    "import pandas as pd"
   ]
  },
  {
   "cell_type": "code",
   "execution_count": 3,
   "id": "d5b30eab",
   "metadata": {},
   "outputs": [
    {
     "ename": "SyntaxError",
     "evalue": "unterminated string literal (detected at line 8) (1115584373.py, line 8)",
     "output_type": "error",
     "traceback": [
      "\u001b[0;36m  Cell \u001b[0;32mIn[3], line 8\u001b[0;36m\u001b[0m\n\u001b[0;31m    list_wref.append('SVS_SE_TE_90_26T_REDO_REF_0015/COURS-TEMP-0.MR.RMSB_VO.0015.0001.2024.03.06.18.23.40.736185.548666831.IMA\u001b[0m\n\u001b[0m                     ^\u001b[0m\n\u001b[0;31mSyntaxError\u001b[0m\u001b[0;31m:\u001b[0m unterminated string literal (detected at line 8)\n"
     ]
    }
   ],
   "source": [
    "import os\n",
    "import sys\n",
    "\n",
    "\n",
    "file_temp='/home/vozenne/Bureau/Mesure_Temperature_2024-03-06_16-33-47.csv'\n",
    "\n",
    "list_wref=[]\n",
    "list_wref.append('SVS_SE_TE_90_26T_REDO_REF_0015/COURS-TEMP-0.MR.RMSB_VO.0015.0001.2024.03.06.18.23.40.736185.548666831.IMA\n",
    "list_wref.append('SVS_SE_TE_90_26T_REF_0012/COURS-TEMP-0.MR.RMSB_VO.0012.0001.2024.03.06.18.23.40.736185.548660677.IMA\n",
    "\n",
    "              \n",
    "                 \n",
    "                 \n",
    "                 "
   ]
  },
  {
   "cell_type": "code",
   "execution_count": null,
   "id": "10a452fd",
   "metadata": {},
   "outputs": [],
   "source": []
  }
 ],
 "metadata": {
  "kernelspec": {
   "display_name": "neuro-spectro-env",
   "language": "python",
   "name": "neuro-spectro-env"
  },
  "language_info": {
   "codemirror_mode": {
    "name": "ipython",
    "version": 3
   },
   "file_extension": ".py",
   "mimetype": "text/x-python",
   "name": "python",
   "nbconvert_exporter": "python",
   "pygments_lexer": "ipython3",
   "version": "3.10.12"
  }
 },
 "nbformat": 4,
 "nbformat_minor": 5
}
